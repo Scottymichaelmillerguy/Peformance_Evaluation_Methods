{
  "nbformat": 4,
  "nbformat_minor": 0,
  "metadata": {
    "colab": {
      "provenance": [],
      "authorship_tag": "ABX9TyPgsnogUlJgaKLW3zV9Rt+N",
      "include_colab_link": true
    },
    "kernelspec": {
      "name": "python3",
      "display_name": "Python 3"
    },
    "language_info": {
      "name": "python"
    }
  },
  "cells": [
    {
      "cell_type": "markdown",
      "metadata": {
        "id": "view-in-github",
        "colab_type": "text"
      },
      "source": [
        "<a href=\"https://colab.research.google.com/github/Scottymichaelmillerguy/Peformance_Evaluation_Methods/blob/main/Regression_Performance_Evaluation_Metrics.ipynb\" target=\"_parent\"><img src=\"https://colab.research.google.com/assets/colab-badge.svg\" alt=\"Open In Colab\"/></a>"
      ]
    },
    {
      "cell_type": "markdown",
      "source": [
        "# Regression Performance Evaluation Metrics"
      ],
      "metadata": {
        "id": "EOBlziNH9b7K"
      }
    },
    {
      "cell_type": "markdown",
      "source": [
        "## From ML Algorithms to GenAI & LLMs by Aman Kharwal"
      ],
      "metadata": {
        "id": "bfzURD549wEV"
      }
    },
    {
      "cell_type": "markdown",
      "source": [
        "#### Mean Square Error (MSE)"
      ],
      "metadata": {
        "id": "xm3eVKlr92q-"
      }
    },
    {
      "cell_type": "code",
      "execution_count": null,
      "metadata": {
        "id": "5KKkFyzV9W0J"
      },
      "outputs": [],
      "source": [
        "from sklearn.datasets import load_diabetes\n",
        "from sklearn.linear_model import LinearRegression\n",
        "from sklearn.model_selection import train_test_split\n",
        "\n",
        "# Load the diabetes dataset\n",
        "diabetes_data = load_diabetes()\n",
        "\n",
        "# Select features and target variable\n",
        "X = diabetes_data.data\n",
        "y = diabetes_data.target\n",
        "\n",
        "# Split the data into training and testing sets\n",
        "X_train, X_test, y_train, y_test = train_test_split(X, y, test_size = 0.2, random_state = 42)\n",
        "\n",
        "# Train a linear regression model\n",
        "model = LinearRegression()\n",
        "model.fit(X_train, y_train)\n",
        "\n",
        "#Make predictions on the test set\n",
        "y_pred = model.predict(X_test)"
      ]
    },
    {
      "cell_type": "markdown",
      "source": [
        "Here's how to use MSE to evaluate the performance of a regression model"
      ],
      "metadata": {
        "id": "4ql6PvVr-5Pw"
      }
    },
    {
      "cell_type": "code",
      "source": [
        "# Compute the Mean Squared Error\n",
        "from sklearn.metrics import mean_squared_error\n",
        "mse = mean_squared_error(y_test, y_pred)\n",
        "print(\"Mean Squared Error:\", mse)"
      ],
      "metadata": {
        "colab": {
          "base_uri": "https://localhost:8080/"
        },
        "id": "frllA8PP-2g7",
        "outputId": "767e15fc-863e-4676-b79b-d3b1efaaef6e"
      },
      "execution_count": null,
      "outputs": [
        {
          "output_type": "stream",
          "name": "stdout",
          "text": [
            "Mean Squared Error: 2900.193628493482\n"
          ]
        }
      ]
    },
    {
      "cell_type": "markdown",
      "source": [
        "Root Mean Square Error"
      ],
      "metadata": {
        "id": "z7KrTUD4_U9m"
      }
    },
    {
      "cell_type": "code",
      "source": [
        "import numpy as np\n",
        "\n",
        "mse = mean_squared_error(y_test, y_pred)\n",
        "rmse = np.sqrt(mse)\n",
        "print(\"Root Mean Squared Error:\", rmse)"
      ],
      "metadata": {
        "colab": {
          "base_uri": "https://localhost:8080/"
        },
        "id": "GDySc2xH_RKy",
        "outputId": "5f7852ee-9087-40ed-9e5b-b3a675dc17b2"
      },
      "execution_count": null,
      "outputs": [
        {
          "output_type": "stream",
          "name": "stdout",
          "text": [
            "Root Mean Squared Error: 53.85344583676593\n"
          ]
        }
      ]
    },
    {
      "cell_type": "markdown",
      "source": [
        "Mean Absolute Error"
      ],
      "metadata": {
        "id": "sczG02kBBJpF"
      }
    },
    {
      "cell_type": "code",
      "source": [
        "from sklearn.metrics import mean_absolute_error\n",
        "mae = mean_absolute_error(y_test, y_pred)\n",
        "print(\"Mean Absolute Error:\", mae)"
      ],
      "metadata": {
        "colab": {
          "base_uri": "https://localhost:8080/"
        },
        "id": "x9mxkAMN_qxC",
        "outputId": "f7dcbd87-0235-47b9-bf77-687637984a20"
      },
      "execution_count": null,
      "outputs": [
        {
          "output_type": "stream",
          "name": "stdout",
          "text": [
            "Mean Absolute Error: 42.79409467959994\n"
          ]
        }
      ]
    },
    {
      "cell_type": "markdown",
      "source": [
        "R-Squared"
      ],
      "metadata": {
        "id": "qKOFVHMPBb71"
      }
    },
    {
      "cell_type": "code",
      "source": [
        "from sklearn.metrics import r2_score\n",
        "r2 = r2_score(y_test, y_pred)\n",
        "print(\"R-squared:\", r2)"
      ],
      "metadata": {
        "colab": {
          "base_uri": "https://localhost:8080/"
        },
        "id": "_-tbFK0eBYJf",
        "outputId": "9993e00a-7fa0-436e-f5a4-856ce0f3a5ab"
      },
      "execution_count": null,
      "outputs": [
        {
          "output_type": "stream",
          "name": "stdout",
          "text": [
            "R-squared: 0.4526027629719195\n"
          ]
        }
      ]
    },
    {
      "cell_type": "markdown",
      "source": [
        "Adjusted R-Squared"
      ],
      "metadata": {
        "id": "S8zNsX0uBtTm"
      }
    },
    {
      "cell_type": "code",
      "source": [
        "n = len(y_test)\n",
        "k = 10 # Number of independent variables in the model\n",
        "adjusted_r2 = 1 - ((1 - r2) * (n - 1) / (n - k - 1))\n",
        "print(\"Adjusted R-Squared:\", adjusted_r2)"
      ],
      "metadata": {
        "colab": {
          "base_uri": "https://localhost:8080/"
        },
        "id": "TYGFrkBdBoN1",
        "outputId": "a9db5fa5-d474-409c-acbf-82f08d5aa473"
      },
      "execution_count": null,
      "outputs": [
        {
          "output_type": "stream",
          "name": "stdout",
          "text": [
            "Adjusted R-Squared: 0.38242363001960145\n"
          ]
        }
      ]
    },
    {
      "cell_type": "code",
      "source": [],
      "metadata": {
        "id": "LFw4vh_NCCoW"
      },
      "execution_count": null,
      "outputs": []
    }
  ]
}